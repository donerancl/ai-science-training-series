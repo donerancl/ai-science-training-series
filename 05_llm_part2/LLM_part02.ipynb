{
 "cells": [
  {
   "cell_type": "markdown",
   "metadata": {
    "id": "J1tOS7oWba4s"
   },
   "source": [
    "# Large language models (LLMs): Part II\n",
    "\n",
    "Author: Archit Vasan , including materials on LLMs by Varuni Sastri, and discussion/editorial work by Taylor Childers, Carlo Graziani, Bethany Lusch, and Venkat Vishwanath (Argonne)\n",
    "\n",
    "Some inspiration from the blog post \"The Illustrated Transformer\" by Jay Alammar, highly recommended reading.\n",
    "\n",
    "Before you begin, make sure that you have your environment set up and your repo refreshed, as described in previous lessons, and reviewed in the accompanying 'Readme.md' file. Make sure that you select the kernel 'datascience/conda-2023-10-04' at the top-left of the Jupyter notebook."
   ]
  },
  {
   "cell_type": "markdown",
   "metadata": {},
   "source": [
    "## Overview\n",
    "1. Training and inference using Hugging Face\n",
    "2. Elements of an LLM\n",
    "3. Attention mechanisms\n",
    "4. Positional encoding\n",
    "5. Output layers\n",
    "6. Training loops"
   ]
  },
  {
   "cell_type": "markdown",
   "metadata": {},
   "source": [
    "## LLM training and inference using HuggingFace"
   ]
  },
  {
   "cell_type": "markdown",
   "metadata": {},
   "source": [
    "<img src=\"images/hf-logo-with-title.png\" alt=\"Drawing\" style=\"width: 300px;\"/>\n",
    "HuggingFace is a platform and community that provides open-source library tools and resources like pre-trained models and datasets.\n",
    "Refer to the following links for more information :\n",
    "\n",
    "https://huggingface.co/docs/hub/index\n",
    "\n",
    "https://huggingface.co/docs/transformers/en/index"
   ]
  },
  {
   "cell_type": "markdown",
   "metadata": {},
   "source": [
    "### Inference\n",
    "\n",
    "We can use the Huggingface pipeline with a pretrained GPT2 model to generate text given a prompt."
   ]
  },
  {
   "cell_type": "code",
   "execution_count": 2,
   "metadata": {},
   "outputs": [],
   "source": [
    "from transformers import AutoTokenizer,AutoModelForCausalLM, AutoConfig\n",
    "input_text = \"My dog really wanted to\"\n",
    "from transformers import pipeline\n",
    "generator = pipeline(\"text-generation\", model=\"openai-community/gpt2\")\n",
    "generator(input_text, max_length=100, num_return_sequences=5)"
   ]
  },
  {
   "cell_type": "markdown",
   "metadata": {},
   "source": [
    "My dog really doesn't like his dad and is pretty big... what about your dog?"
   ]
  },
  {
   "cell_type": "markdown",
   "metadata": {},
   "source": [
    "### Training"
   ]
  },
  {
   "cell_type": "markdown",
   "metadata": {},
   "source": [
    "We can also load in our own dataset and train a model with this data as follows:"
   ]
  },
  {
   "cell_type": "code",
   "execution_count": 1,
   "metadata": {},
   "outputs": [],
   "source": [
    "### Include Code for Fine-tuning the model"
   ]
  },
  {
   "cell_type": "markdown",
   "metadata": {},
   "source": [
    "## What is going on below the hood?"
   ]
  },
  {
   "cell_type": "markdown",
   "metadata": {},
   "source": [
    "There are two components that are \"black-boxes\" here:\n",
    "1. The method for tokenization\n",
    "2. The model that generates novel text.\n",
    "\n",
    "Carlo Graziani already gave a great explanation of tokenization last week and how this affects embeddings (https://github.com/argonne-lcf/ai-science-training-series/blob/main/04_intro_to_llms/Sequential_Data_Models.ipynb)"
   ]
  },
  {
   "cell_type": "markdown",
   "metadata": {},
   "source": [
    "Today we will take a closer look at how the model is designed to deal with language."
   ]
  },
  {
   "cell_type": "markdown",
   "metadata": {},
   "source": [
    "Let's look inside GPT2! GPT2 incorporates the `GPT2LMHeadModel` architecture so let's inspect this more closely."
   ]
  },
  {
   "cell_type": "code",
   "execution_count": 2,
   "metadata": {
    "scrolled": true
   },
   "outputs": [
    {
     "name": "stdout",
     "output_type": "stream",
     "text": [
      "GPT2LMHeadModel(\n",
      "  (transformer): GPT2Model(\n",
      "    (wte): Embedding(50257, 768)\n",
      "    (wpe): Embedding(1024, 768)\n",
      "    (drop): Dropout(p=0.1, inplace=False)\n",
      "    (h): ModuleList(\n",
      "      (0-11): 12 x GPT2Block(\n",
      "        (ln_1): LayerNorm((768,), eps=1e-05, elementwise_affine=True)\n",
      "        (attn): GPT2Attention(\n",
      "          (c_attn): Conv1D()\n",
      "          (c_proj): Conv1D()\n",
      "          (attn_dropout): Dropout(p=0.1, inplace=False)\n",
      "          (resid_dropout): Dropout(p=0.1, inplace=False)\n",
      "        )\n",
      "        (ln_2): LayerNorm((768,), eps=1e-05, elementwise_affine=True)\n",
      "        (mlp): GPT2MLP(\n",
      "          (c_fc): Conv1D()\n",
      "          (c_proj): Conv1D()\n",
      "          (act): NewGELUActivation()\n",
      "          (dropout): Dropout(p=0.1, inplace=False)\n",
      "        )\n",
      "      )\n",
      "    )\n",
      "    (ln_f): LayerNorm((768,), eps=1e-05, elementwise_affine=True)\n",
      "  )\n",
      "  (lm_head): Linear(in_features=768, out_features=50257, bias=False)\n",
      ")\n"
     ]
    }
   ],
   "source": [
    "from transformers import GPT2Tokenizer, GPT2LMHeadModel\n",
    "model = GPT2LMHeadModel.from_pretrained('gpt2')\n",
    "print(model)"
   ]
  },
  {
   "cell_type": "markdown",
   "metadata": {},
   "source": [
    "## General elements of an LLM"
   ]
  },
  {
   "cell_type": "markdown",
   "metadata": {},
   "source": [
    "GPT-2 is an example of the popular Transformer architecture. \n"
   ]
  },
  {
   "cell_type": "markdown",
   "metadata": {
    "id": "cig2mvfguetQ"
   },
   "source": [
    "<img src=\"images/decoder_only_block.png\" alt=\"Drawing\" style=\"width: 200px;\"/>"
   ]
  },
  {
   "cell_type": "markdown",
   "metadata": {},
   "source": [
    "The gray section in this figure is the Transfomer Decoder and it is the main mechanism GPT2 uses to encode context of language into its predictions.\n",
    "\n",
    "<img src=\"images/transformer-decoder-intro.png\" alt=\"Drawing\" style=\"width: 600px;\"/>\n"
   ]
  },
  {
   "cell_type": "markdown",
   "metadata": {},
   "source": [
    "The Transformer-Decoder is composed of a series of Decoder blocks which each contain two types of layers: \n",
    "1. Masked Self-Attention and \n",
    "2. Feed Forward Neural Networks."
   ]
  },
  {
   "cell_type": "markdown",
   "metadata": {},
   "source": [
    "You have already discussed Feed Forward Neural Networks in detail in the other lectures in this series. To review this, please look at https://github.com/argonne-lcf/ai-science-training-series/blob/main/02_intro_neural_networks/01_introduction_mnist.ipynb"
   ]
  },
  {
   "cell_type": "markdown",
   "metadata": {},
   "source": [
    "In this lecture, we will \n",
    "* First, discuss attention mechanisms at length as this is arguably the greatest contribution by Transformers.\n",
    "* Second, extend the discussion from last week (https://github.com/argonne-lcf/ai-science-training-series/blob/main/04_intro_to_llms/Sequential_Data_Models.ipynb) on embedding input data while taking into account position.\n",
    "* Third, discuss outputting real text/sequences from the models.\n",
    "* Fourth, build a training loop for a mini-LLM."
   ]
  },
  {
   "cell_type": "markdown",
   "metadata": {},
   "source": [
    "**Let's set up all the imports and hyperparameters we will need**"
   ]
  },
  {
   "cell_type": "code",
   "execution_count": 8,
   "metadata": {},
   "outputs": [
    {
     "data": {
      "text/plain": [
       "<torch._C.Generator at 0x146a6f2c4b10>"
      ]
     },
     "execution_count": 8,
     "metadata": {},
     "output_type": "execute_result"
    }
   ],
   "source": [
    "## IMPORTS\n",
    "\n",
    "import torch\n",
    "import torch.nn as nn\n",
    "from torch.nn import functional as F\n",
    "torch.manual_seed(1337)\n",
    "# hyperparameters\n",
    "batch_size = 16 # how many independent sequences will we process in parallel?\n",
    "block_size = 32 # what is the maximum context length for predictions?\n",
    "max_iters = 5000\n",
    "eval_interval = 100\n",
    "learning_rate = 1e-3\n",
    "device = 'cuda' if torch.cuda.is_available() else 'cpu'\n",
    "eval_iters = 200\n",
    "n_embd = 64\n",
    "n_head = 4 ## so head_size = 16\n",
    "n_layer = 4\n",
    "dropout = 0.0\n",
    "# ------------\n",
    "\n",
    "torch.manual_seed(1337)"
   ]
  },
  {
   "cell_type": "markdown",
   "metadata": {
    "id": "BowLYFlCrDrr"
   },
   "source": [
    "## Attention mechanisms\n",
    "\n",
    "Say the following sentence is an input sentence we want to translate using an LLM:\n",
    "\n",
    "`”The animal didn't cross the street because it was too tired”`\n",
    "\n",
    "Last week, Carlo mentioned that the Transformer learns an embedding of all words allowing interpretation of meanings of words.\n",
    "\n",
    "<img src=\"images/viz-bert-voc-verbs.png\" alt=\"Drawing\" style=\"width: 400px;\"/>\n",
    "\n",
    "So, if the model did a good job in token embedding, it will \"know\" what all the words in this sentence mean. "
   ]
  },
  {
   "cell_type": "markdown",
   "metadata": {},
   "source": [
    "But to understand a full sentence, the model also need to understand what each word means in relation to other words.\n",
    "\n",
    "For example, when we read the sentence:\n",
    "`”The animal didn't cross the street because it was too tired”`\n",
    "we know intuitively that the word `\"it\"` refers to `\"animal\"`, the state for `\"it\"` is `\"tired\"`, and the associated action is `\"didn't cross\"`.\n",
    "\n",
    "However, the model needs a way to learn all of this information in a simple yet generalizable way.\n",
    "What makes Transformers particularly powerful compared to earlier sequential architectures is how it encodes context with the **attention mechanism**.\n",
    "\n",
    "As the model processes each word in the input sequence, attention looks at other positions in the input sequence for clues to a better understanding for this word."
   ]
  },
  {
   "cell_type": "markdown",
   "metadata": {},
   "source": [
    "<img src=\"images/transformer_self-attention_visualization.png\" alt=\"Drawing\" style=\"width: 300px;\"/>"
   ]
  },
  {
   "cell_type": "markdown",
   "metadata": {
    "id": "UGbAi0cJ7x3a"
   },
   "source": [
    "Image credit: https://jalammar.github.io/illustrated-transformer/"
   ]
  },
  {
   "cell_type": "markdown",
   "metadata": {
    "id": "Jzf9VE_AqWeR"
   },
   "source": [
    "For self-attention there are 5 general steps:\n",
    "\n",
    "1. Generate query, key and value vectors for each word\n",
    "2. Calculate a score for each word in the input sentence against each other.\n",
    "3. Divide the scores by the square root of the dimension of the key vectors to stabilize the gradients. This is then passed through a softmax operation.\n",
    "4. Multiply each value vector by the softmax score.\n",
    "5. Sum up the weighted value vectors to produce the output."
   ]
  },
  {
   "cell_type": "markdown",
   "metadata": {},
   "source": [
    "<img src=\"images/self-attention-output.png\" alt=\"Drawing\" style=\"width: 450px;\"/>"
   ]
  },
  {
   "cell_type": "markdown",
   "metadata": {
    "id": "yOwm-NkXA8U3"
   },
   "source": [
    "Image credit: https://jalammar.github.io/illustrated-transformer/"
   ]
  },
  {
   "cell_type": "markdown",
   "metadata": {},
   "source": [
    "Let's see how attention is performed in the code."
   ]
  },
  {
   "cell_type": "code",
   "execution_count": 13,
   "metadata": {},
   "outputs": [],
   "source": [
    "import torch\n",
    "import torch.nn as nn\n",
    "from torch.nn import functional as F\n",
    "torch.manual_seed(1337)\n",
    "B,T,C = 4,8,32 # batch, time, channels\n",
    "x = torch.randn(B,T,C)\n",
    "\n",
    "# Here we want the wei to be data dependent - ie gather info from the past but in a data dependant way\n",
    "\n",
    "head_size = 16\n",
    "key = nn.Linear(C, head_size, bias=False)\n",
    "query = nn.Linear(C, head_size, bias=False)\n",
    "value = nn.Linear(C, head_size, bias=False)\n",
    "k = key(x)   # (B, T, 16) # each token here (totally B*T) produce a key and query in parallel and independently\n",
    "q = query(x) # (B, T, 16)\n",
    "v = value(x)\n",
    "\n",
    "wei =  q @ k.transpose(-2, -1) * head_size**-0.5 # (B, T, 16) @ (B, 16, T) ---> (B, T, T). #\n",
    "wei = F.softmax(wei, dim=-1) # exponentiate and normalize giving a nice distibution that sums to 1 and\n",
    "                             # now it tells us that in a data dependent manner how much of info to aggregate from\n",
    "\n",
    "out = wei @ v # aggregate the attention scores and value vector.\n"
   ]
  },
  {
   "cell_type": "code",
   "execution_count": 14,
   "metadata": {},
   "outputs": [
    {
     "name": "stdout",
     "output_type": "stream",
     "text": [
      "Softmax\n",
      "tensor([[0.0728, 0.0818, 0.1304, 0.1943, 0.0867, 0.1849, 0.1481, 0.1011],\n",
      "        [0.0518, 0.0788, 0.1224, 0.2774, 0.0691, 0.1547, 0.1176, 0.1283],\n",
      "        [0.1152, 0.1086, 0.1517, 0.1353, 0.1163, 0.1041, 0.1516, 0.1172],\n",
      "        [0.1769, 0.1190, 0.1337, 0.1176, 0.1264, 0.1085, 0.1053, 0.1125],\n",
      "        [0.0855, 0.1177, 0.0962, 0.0842, 0.1949, 0.1454, 0.1285, 0.1476],\n",
      "        [0.0913, 0.1806, 0.0960, 0.0770, 0.2278, 0.0525, 0.1408, 0.1339],\n",
      "        [0.1391, 0.1732, 0.0992, 0.0979, 0.1234, 0.1452, 0.0924, 0.1296],\n",
      "        [0.0845, 0.1197, 0.1078, 0.1537, 0.1086, 0.1146, 0.1558, 0.1553]],\n",
      "       grad_fn=<SelectBackward0>)\n",
      "\n",
      "Output\n",
      "tensor([[ 0.0618, -0.0091, -0.3488,  0.3208,  0.2971, -0.1573, -0.0561,  0.1068,\n",
      "          0.0368,  0.0139, -0.0017,  0.3110,  0.1404, -0.0158,  0.1853,  0.4290],\n",
      "        [ 0.1578, -0.0971, -0.4256,  0.3538,  0.3621, -0.2392, -0.0536,  0.1759,\n",
      "          0.1115,  0.0282, -0.0649,  0.3641,  0.1928,  0.0261,  0.2162,  0.3758],\n",
      "        [ 0.1293,  0.0759, -0.2946,  0.2292,  0.2215, -0.0710, -0.0107,  0.1616,\n",
      "         -0.0930, -0.0877,  0.0567,  0.1899,  0.0311, -0.0894,  0.0309,  0.5471],\n",
      "        [ 0.1247,  0.1400, -0.2436,  0.1819,  0.1976,  0.0338, -0.0028,  0.1124,\n",
      "         -0.1477, -0.0748,  0.0650,  0.1392, -0.0314, -0.0989,  0.0613,  0.5433],\n",
      "        [ 0.0667,  0.1845, -0.2135,  0.2813,  0.2064,  0.0873,  0.0084,  0.2055,\n",
      "         -0.1130, -0.1466,  0.0459,  0.1923, -0.0275, -0.1107,  0.0065,  0.4674],\n",
      "        [ 0.1924,  0.1693, -0.1568,  0.2284,  0.1620,  0.0737,  0.0443,  0.2519,\n",
      "         -0.1912, -0.1979,  0.0832,  0.0713, -0.0826, -0.0848, -0.1047,  0.6089],\n",
      "        [ 0.1184,  0.0884, -0.2652,  0.2560,  0.1840,  0.0284, -0.0621,  0.1181,\n",
      "         -0.0880,  0.0104,  0.1123,  0.1850,  0.0369, -0.0730,  0.0663,  0.5242],\n",
      "        [ 0.1243,  0.0453, -0.3412,  0.2709,  0.2335, -0.0948, -0.0421,  0.2143,\n",
      "         -0.0330, -0.0313,  0.0520,  0.2378,  0.1084, -0.0959,  0.0300,  0.4707]],\n",
      "       grad_fn=<SelectBackward0>)\n"
     ]
    }
   ],
   "source": [
    "print(\"Softmax\")\n",
    "print(wei[0])\n",
    "print(\"\\nOutput\")\n",
    "print(out[0])"
   ]
  },
  {
   "cell_type": "markdown",
   "metadata": {
    "id": "4lwyFlxKW6oA"
   },
   "source": [
    "### Multi-head attention\n",
    "\n",
    "In practice, multiple attention heads are used which\n",
    "1. Expands the model’s ability to focus on different positions and prevent the attention to be dominated by the word itself.\n",
    "2. Have multiple “representation subspaces”. Have multiple sets of Query/Key/Value weight matrices"
   ]
  },
  {
   "cell_type": "markdown",
   "metadata": {},
   "source": [
    "<img src=\"images/transformer_multi-headed_self-attention-recap.png\" alt=\"Drawing\" style=\"width: 700px;\"/>"
   ]
  },
  {
   "cell_type": "markdown",
   "metadata": {
    "id": "6oHsezdVBIaf"
   },
   "source": [
    "Image credit: https://jalammar.github.io/illustrated-transformer/"
   ]
  },
  {
   "cell_type": "markdown",
   "metadata": {},
   "source": [
    "### Let's see attention mechanisms in action!"
   ]
  },
  {
   "cell_type": "markdown",
   "metadata": {
    "id": "1_i9ezLNadC2"
   },
   "source": [
    "The attention mechanisms can be significantly more complex as the number of heads increases!"
   ]
  },
  {
   "cell_type": "markdown",
   "metadata": {},
   "source": [
    "We are going to use the powerful visualization tool bertviz, which allows an interactive experience of the attention mechanisms. Normally these mechanisms are abstracted away but this will allow us to inspect our model in more detail."
   ]
  },
  {
   "cell_type": "code",
   "execution_count": 31,
   "metadata": {
    "scrolled": true
   },
   "outputs": [
    {
     "name": "stdout",
     "output_type": "stream",
     "text": [
      "huggingface/tokenizers: The current process just got forked, after parallelism has already been used. Disabling parallelism to avoid deadlocks...\n",
      "To disable this warning, you can either:\n",
      "\t- Avoid using `tokenizers` before the fork if possible\n",
      "\t- Explicitly set the environment variable TOKENIZERS_PARALLELISM=(true | false)\n",
      "Defaulting to user installation because normal site-packages is not writeable\n",
      "Requirement already satisfied: bertviz in /home/avasan/.local/lib/python3.10/site-packages (1.4.0)\n",
      "Requirement already satisfied: transformers>=2.0 in /soft/datascience/conda/2023-01-10/mconda3/lib/python3.10/site-packages (from bertviz) (4.26.0)\n",
      "Requirement already satisfied: torch>=1.0 in /soft/datascience/conda/2023-01-10/mconda3/lib/python3.10/site-packages (from bertviz) (1.13.0a0+git49444c3)\n",
      "Requirement already satisfied: tqdm in /soft/datascience/conda/2023-01-10/mconda3/lib/python3.10/site-packages (from bertviz) (4.64.1)\n",
      "Requirement already satisfied: boto3 in /home/avasan/.local/lib/python3.10/site-packages (from bertviz) (1.34.54)\n",
      "Requirement already satisfied: requests in /soft/datascience/conda/2023-01-10/mconda3/lib/python3.10/site-packages (from bertviz) (2.28.1)\n",
      "Requirement already satisfied: regex in /soft/datascience/conda/2023-01-10/mconda3/lib/python3.10/site-packages (from bertviz) (2022.10.31)\n",
      "Requirement already satisfied: sentencepiece in /home/avasan/.local/lib/python3.10/site-packages (from bertviz) (0.2.0)\n",
      "Requirement already satisfied: typing-extensions in /soft/datascience/conda/2023-01-10/mconda3/lib/python3.10/site-packages (from torch>=1.0->bertviz) (4.4.0)\n",
      "Requirement already satisfied: filelock in /soft/datascience/conda/2023-01-10/mconda3/lib/python3.10/site-packages (from transformers>=2.0->bertviz) (3.9.0)\n",
      "Requirement already satisfied: huggingface-hub<1.0,>=0.11.0 in /soft/datascience/conda/2023-01-10/mconda3/lib/python3.10/site-packages (from transformers>=2.0->bertviz) (0.12.0)\n",
      "Requirement already satisfied: numpy>=1.17 in /soft/datascience/conda/2023-01-10/mconda3/lib/python3.10/site-packages (from transformers>=2.0->bertviz) (1.23.5)\n",
      "Requirement already satisfied: packaging>=20.0 in /soft/datascience/conda/2023-01-10/mconda3/lib/python3.10/site-packages (from transformers>=2.0->bertviz) (21.3)\n",
      "Requirement already satisfied: pyyaml>=5.1 in /soft/datascience/conda/2023-01-10/mconda3/lib/python3.10/site-packages (from transformers>=2.0->bertviz) (6.0)\n",
      "Requirement already satisfied: tokenizers!=0.11.3,<0.14,>=0.11.1 in /soft/datascience/conda/2023-01-10/mconda3/lib/python3.10/site-packages (from transformers>=2.0->bertviz) (0.13.2)\n",
      "Requirement already satisfied: botocore<1.35.0,>=1.34.54 in /home/avasan/.local/lib/python3.10/site-packages (from boto3->bertviz) (1.34.54)\n",
      "Requirement already satisfied: jmespath<2.0.0,>=0.7.1 in /home/avasan/.local/lib/python3.10/site-packages (from boto3->bertviz) (1.0.1)\n",
      "Requirement already satisfied: s3transfer<0.11.0,>=0.10.0 in /home/avasan/.local/lib/python3.10/site-packages (from boto3->bertviz) (0.10.0)\n",
      "Requirement already satisfied: charset-normalizer<3,>=2 in /soft/datascience/conda/2023-01-10/mconda3/lib/python3.10/site-packages (from requests->bertviz) (2.0.4)\n",
      "Requirement already satisfied: idna<4,>=2.5 in /soft/datascience/conda/2023-01-10/mconda3/lib/python3.10/site-packages (from requests->bertviz) (3.4)\n",
      "Requirement already satisfied: urllib3<1.27,>=1.21.1 in /soft/datascience/conda/2023-01-10/mconda3/lib/python3.10/site-packages (from requests->bertviz) (1.26.13)\n",
      "Requirement already satisfied: certifi>=2017.4.17 in /soft/datascience/conda/2023-01-10/mconda3/lib/python3.10/site-packages (from requests->bertviz) (2022.12.7)\n",
      "Requirement already satisfied: python-dateutil<3.0.0,>=2.1 in /soft/datascience/conda/2023-01-10/mconda3/lib/python3.10/site-packages (from botocore<1.35.0,>=1.34.54->boto3->bertviz) (2.8.2)\n",
      "Requirement already satisfied: pyparsing!=3.0.5,>=2.0.2 in /soft/datascience/conda/2023-01-10/mconda3/lib/python3.10/site-packages (from packaging>=20.0->transformers>=2.0->bertviz) (3.0.9)\n",
      "Requirement already satisfied: six>=1.5 in /soft/datascience/conda/2023-01-10/mconda3/lib/python3.10/site-packages (from python-dateutil<3.0.0,>=2.1->botocore<1.35.0,>=1.34.54->boto3->bertviz) (1.16.0)\n",
      "\n",
      "\u001b[1m[\u001b[0m\u001b[34;49mnotice\u001b[0m\u001b[1;39;49m]\u001b[0m\u001b[39;49m A new release of pip is available: \u001b[0m\u001b[31;49m23.2.1\u001b[0m\u001b[39;49m -> \u001b[0m\u001b[32;49m24.0\u001b[0m\n",
      "\u001b[1m[\u001b[0m\u001b[34;49mnotice\u001b[0m\u001b[1;39;49m]\u001b[0m\u001b[39;49m To update, run: \u001b[0m\u001b[32;49mpip install --upgrade pip\u001b[0m\n"
     ]
    }
   ],
   "source": [
    "!pip install bertviz"
   ]
  },
  {
   "cell_type": "markdown",
   "metadata": {},
   "source": [
    "Let's load in the model, GPT2 and look at the attention mechanisms. \n",
    "\n",
    "**Hint... click on the different blocks in the visualization to see the attention**"
   ]
  },
  {
   "cell_type": "code",
   "execution_count": 2,
   "metadata": {},
   "outputs": [],
   "source": [
    "from transformers import AutoTokenizer, AutoModel, utils, AutoModelForCausalLM\n",
    "\n",
    "from bertviz import model_view\n",
    "utils.logging.set_verbosity_error()  # Suppress standard warnings\n",
    "\n",
    "model_name = 'openai-community/gpt2'\n",
    "input_text = \"No, I am your father\"  \n",
    "model = AutoModelForCausalLM.from_pretrained(model_name, output_attentions=True)\n",
    "tokenizer = AutoTokenizer.from_pretrained(model_name)\n",
    "inputs = tokenizer.encode(input_text, return_tensors='pt')  # Tokenize input text\n",
    "outputs = model(inputs)  # Run model\n",
    "attention = outputs[-1]  # Retrieve attention from model outputs\n",
    "tokens = tokenizer.convert_ids_to_tokens(inputs[0])  # Convert input ids to token strings\n",
    "model_view(attention, tokens)  # Display model view"
   ]
  },
  {
   "cell_type": "markdown",
   "metadata": {},
   "source": [
    "### Positional encoding"
   ]
  },
  {
   "cell_type": "markdown",
   "metadata": {
    "id": "IFq78-kjbrWp"
   },
   "source": [
    "**Positional encoding** accounts for the order of the words in the input sequence.\n",
    "\n",
    "Consider the following two sentences to see why this is important:\n",
    "\n",
    "``The man ate the sandwich.``\n",
    "\n",
    "``The sandwich ate the man.``\n",
    "\n",
    "Clearly, these are two vastly different situations even though they have the same words.\n",
    "\n",
    "Transformers differentiate between these situations by adding a vector to each input embedding. These vectors follow a specific pattern that the model learns, which helps it determine the position of each word."
   ]
  },
  {
   "cell_type": "markdown",
   "metadata": {},
   "source": [
    "<img src=\"images/transformer_positional_encoding_vectors.png\" alt=\"Drawing\" style=\"width: 500px;\"/>"
   ]
  },
  {
   "cell_type": "markdown",
   "metadata": {
    "id": "paegfAF27wCp"
   },
   "source": [
    "Image credit: https://jalammar.github.io/illustrated-transformer/"
   ]
  },
  {
   "cell_type": "markdown",
   "metadata": {},
   "source": [
    "First, we are going to setup the token embedding using the ``nn.Embedding`` function in pytorch:"
   ]
  },
  {
   "cell_type": "code",
   "execution_count": 9,
   "metadata": {},
   "outputs": [],
   "source": [
    "vocab_size = 65\n",
    "token_embedding_table = nn.Embedding(vocab_size, n_embd)"
   ]
  },
  {
   "cell_type": "markdown",
   "metadata": {},
   "source": [
    "Here, we set this up similarly as token embedding using the ``nn.Embedding`` tool. We use a simple embedding here but there are more complex positional encodings used such as sinusoidal. \n",
    "\n",
    "For an explanation of different positional encodings, refer to this post: https://machinelearningmastery.com/a-gentle-introduction-to-positional-encoding-in-transformer-models-part-1/"
   ]
  },
  {
   "cell_type": "code",
   "execution_count": 10,
   "metadata": {},
   "outputs": [],
   "source": [
    "position_embedding_table = nn.Embedding(block_size, n_embd)"
   ]
  },
  {
   "cell_type": "markdown",
   "metadata": {},
   "source": [
    "Then, the position embedding used is simply added to the token embedding to apply positional embedding."
   ]
  },
  {
   "cell_type": "code",
   "execution_count": 11,
   "metadata": {
    "tags": []
   },
   "outputs": [
    {
     "name": "stdout",
     "output_type": "stream",
     "text": [
      "Token embedding alone\n",
      "tensor([[-8.3447e-01,  5.9780e-01, -5.1406e-02, -6.4559e-02, -4.9701e-01,\n",
      "          4.6576e-01, -2.5726e-01, -1.0673e+00,  2.0089e+00, -5.3698e-01,\n",
      "          2.2280e-01,  6.9705e-01, -1.4267e+00,  9.0594e-01,  1.4459e-01,\n",
      "          2.2800e-01,  2.4900e+00, -1.2237e+00,  1.0107e+00,  5.5600e-01,\n",
      "         -1.5935e+00, -1.2706e+00,  6.9033e-01, -1.9614e-01,  3.4491e-01,\n",
      "         -3.4189e-01,  4.7587e-01, -7.6634e-01, -4.1896e-01, -4.3699e-01,\n",
      "         -1.0012e+00, -4.0943e-01, -1.6669e+00, -1.3651e+00, -1.6552e-01,\n",
      "          9.6225e-01,  3.1549e-02, -7.4190e-01, -2.9779e-01,  1.7166e-02,\n",
      "         -1.7722e-01, -1.3343e-01,  2.9396e-01,  1.3850e+00,  1.2091e-01,\n",
      "          2.5418e+00, -6.4046e-01, -1.9740e+00, -3.2957e-01,  7.9589e-03,\n",
      "          9.2623e-01, -1.8846e+00,  1.6696e-01,  4.5862e-01, -1.7662e+00,\n",
      "          5.8599e-01,  1.7510e+00,  2.8072e-01,  3.1096e-01, -6.5376e-01,\n",
      "         -6.5763e-01,  3.1845e-01, -5.4959e-01, -1.4649e+00],\n",
      "        [ 1.9098e-01, -3.4251e-01,  1.7955e+00,  1.3915e+00,  1.0785e+00,\n",
      "         -6.1495e-01, -4.5885e-01,  5.6748e-01,  1.8289e-02, -1.6608e+00,\n",
      "          1.1169e+00,  5.1965e-01, -1.2423e+00, -9.6182e-01, -8.4998e-02,\n",
      "          1.1854e-01,  2.9843e-01, -7.2636e-01, -3.1187e-01, -4.5604e-01,\n",
      "          6.4407e-01,  6.0728e-01,  1.2397e+00,  7.3249e-01,  5.0418e-01,\n",
      "          8.7135e-01, -2.7416e-01, -7.4689e-01, -5.8324e-01,  3.6988e-01,\n",
      "         -5.5562e-01, -3.9828e-01, -5.8188e-01, -2.2083e-01,  1.3537e-02,\n",
      "         -3.0574e-01, -3.0384e-02,  8.2161e-01,  3.8670e-04, -4.4742e-01,\n",
      "          8.2040e-01, -1.5178e+00,  6.1587e-01, -1.8648e+00, -9.7773e-01,\n",
      "          6.3224e-02, -4.5483e-01, -4.1474e-01,  1.4987e+00, -3.9867e-02,\n",
      "         -8.0510e-01, -1.1624e+00,  4.2716e-01, -2.8192e-01, -1.2773e-02,\n",
      "         -8.7792e-01, -3.2248e-01,  1.8299e-01, -9.3030e-01, -1.2488e+00,\n",
      "          1.1192e+00, -1.9079e+00, -5.2756e-01,  1.0807e+00],\n",
      "        [ 3.2340e-02, -6.3372e-01,  2.9381e-01,  1.7985e+00, -3.6382e-01,\n",
      "          4.8253e-01, -1.8903e+00,  2.3865e-01, -7.6040e-01,  5.1278e-01,\n",
      "         -8.5694e-01,  5.8386e-01, -8.7873e-01,  1.2134e+00,  7.2704e-01,\n",
      "         -2.0601e-01,  1.5973e+00,  1.1853e-01, -1.2549e+00,  1.3024e+00,\n",
      "          4.7600e-01, -8.8707e-01,  1.3709e+00, -1.9473e+00, -8.0173e-01,\n",
      "         -1.3055e+00, -4.9101e-01,  4.4302e-01,  2.1775e-01, -3.2975e-01,\n",
      "         -1.9170e-02,  9.2251e-01,  9.1867e-01,  2.9977e-01,  6.1063e-01,\n",
      "          7.7905e-01,  1.2369e-01,  1.8620e+00,  1.7080e+00, -1.6045e+00,\n",
      "          3.3384e-01, -2.0513e+00,  5.9228e-01,  4.8797e-01, -1.4055e+00,\n",
      "         -6.6859e-01, -4.8307e-01, -2.2978e-01,  9.0431e-01,  7.6310e-01,\n",
      "         -1.6061e-01,  9.1563e-01, -6.9085e-01, -3.0646e-01, -1.1809e+00,\n",
      "          8.1750e-01, -2.0392e+00,  1.5585e-01, -2.9957e-01, -5.3905e-01,\n",
      "         -3.6567e-01,  8.2824e-01, -4.8264e-01,  1.8330e+00],\n",
      "        [ 4.5618e-01, -1.0917e+00, -8.2073e-01,  1.8634e+00,  8.1485e-01,\n",
      "         -6.4297e-02,  1.4237e+00,  2.6173e-01, -1.8528e+00,  2.0186e-01,\n",
      "         -1.1787e+00, -1.0358e-01, -1.7830e+00, -8.3234e-01, -4.3462e-01,\n",
      "         -1.2480e+00, -2.8797e-01,  8.8086e-01, -7.1896e-01,  1.7449e-01,\n",
      "          7.5198e-01, -6.2878e-02, -7.1113e-01,  9.8100e-01, -7.2443e-01,\n",
      "         -1.5010e+00, -2.8348e+00, -2.8272e+00, -1.7358e-01,  5.1187e-02,\n",
      "         -6.5764e-01, -2.5729e+00,  2.1011e-02,  1.0060e+00, -1.2492e+00,\n",
      "          2.4413e-01, -6.3866e-01, -3.1861e-01, -1.2942e+00, -1.0726e+00,\n",
      "          2.2901e-01, -9.0008e-01,  6.6140e-01,  5.1178e-01,  6.7622e-01,\n",
      "         -1.3639e+00,  5.4861e-01,  8.9502e-02,  3.5746e-01, -1.6521e+00,\n",
      "         -7.5838e-01,  6.9533e-02,  9.9369e-01, -2.8205e-01,  1.1088e+00,\n",
      "         -1.9881e+00, -1.3916e+00,  1.2734e+00, -1.1732e+00,  5.8200e-01,\n",
      "         -1.3185e+00,  7.8586e-01, -1.1501e+00,  1.3132e+00],\n",
      "        [ 9.4300e-02, -3.1558e-01,  7.8496e-01, -8.6994e-01, -1.6525e+00,\n",
      "         -8.8157e-01, -1.4546e+00,  2.4102e-01, -1.6206e+00,  4.4878e-01,\n",
      "          5.0098e-01, -7.7269e-01, -1.0796e+00,  3.5018e-03,  6.8618e-04,\n",
      "          7.9731e-02,  1.9934e-01, -1.5677e+00, -2.1165e+00, -1.1813e+00,\n",
      "          7.5047e-02,  6.5496e-01, -5.0057e-01, -2.1613e-01,  2.8637e-02,\n",
      "         -7.7717e-02,  6.6956e-03, -1.2177e+00,  1.1479e+00, -1.5735e+00,\n",
      "          1.3876e+00,  7.2512e-01,  6.4547e-01, -3.3132e-01, -1.0390e+00,\n",
      "          9.1116e-01,  1.2984e+00,  5.5509e-01, -4.6531e-01, -5.5186e-01,\n",
      "          1.1925e+00, -6.6420e-01, -9.1165e-03, -1.1712e+00,  4.8306e-01,\n",
      "          3.5048e-01, -5.7443e-01,  1.2531e+00, -6.7409e-01,  3.9710e-01,\n",
      "          1.9287e-01, -2.1749e+00,  1.6730e+00, -4.2359e-02, -1.1758e-01,\n",
      "          1.0546e+00, -1.5694e-02,  2.4782e-01,  5.0760e-01, -9.0286e-01,\n",
      "          1.7872e+00,  8.9457e-02, -3.7475e-01, -4.7815e-01],\n",
      "        [-8.3447e-01,  5.9780e-01, -5.1406e-02, -6.4559e-02, -4.9701e-01,\n",
      "          4.6576e-01, -2.5726e-01, -1.0673e+00,  2.0089e+00, -5.3698e-01,\n",
      "          2.2280e-01,  6.9705e-01, -1.4267e+00,  9.0594e-01,  1.4459e-01,\n",
      "          2.2800e-01,  2.4900e+00, -1.2237e+00,  1.0107e+00,  5.5600e-01,\n",
      "         -1.5935e+00, -1.2706e+00,  6.9033e-01, -1.9614e-01,  3.4491e-01,\n",
      "         -3.4189e-01,  4.7587e-01, -7.6634e-01, -4.1896e-01, -4.3699e-01,\n",
      "         -1.0012e+00, -4.0943e-01, -1.6669e+00, -1.3651e+00, -1.6552e-01,\n",
      "          9.6225e-01,  3.1549e-02, -7.4190e-01, -2.9779e-01,  1.7166e-02,\n",
      "         -1.7722e-01, -1.3343e-01,  2.9396e-01,  1.3850e+00,  1.2091e-01,\n",
      "          2.5418e+00, -6.4046e-01, -1.9740e+00, -3.2957e-01,  7.9589e-03,\n",
      "          9.2623e-01, -1.8846e+00,  1.6696e-01,  4.5862e-01, -1.7662e+00,\n",
      "          5.8599e-01,  1.7510e+00,  2.8072e-01,  3.1096e-01, -6.5376e-01,\n",
      "         -6.5763e-01,  3.1845e-01, -5.4959e-01, -1.4649e+00],\n",
      "        [ 4.5618e-01, -1.0917e+00, -8.2073e-01,  1.8634e+00,  8.1485e-01,\n",
      "         -6.4297e-02,  1.4237e+00,  2.6173e-01, -1.8528e+00,  2.0186e-01,\n",
      "         -1.1787e+00, -1.0358e-01, -1.7830e+00, -8.3234e-01, -4.3462e-01,\n",
      "         -1.2480e+00, -2.8797e-01,  8.8086e-01, -7.1896e-01,  1.7449e-01,\n",
      "          7.5198e-01, -6.2878e-02, -7.1113e-01,  9.8100e-01, -7.2443e-01,\n",
      "         -1.5010e+00, -2.8348e+00, -2.8272e+00, -1.7358e-01,  5.1187e-02,\n",
      "         -6.5764e-01, -2.5729e+00,  2.1011e-02,  1.0060e+00, -1.2492e+00,\n",
      "          2.4413e-01, -6.3866e-01, -3.1861e-01, -1.2942e+00, -1.0726e+00,\n",
      "          2.2901e-01, -9.0008e-01,  6.6140e-01,  5.1178e-01,  6.7622e-01,\n",
      "         -1.3639e+00,  5.4861e-01,  8.9502e-02,  3.5746e-01, -1.6521e+00,\n",
      "         -7.5838e-01,  6.9533e-02,  9.9369e-01, -2.8205e-01,  1.1088e+00,\n",
      "         -1.9881e+00, -1.3916e+00,  1.2734e+00, -1.1732e+00,  5.8200e-01,\n",
      "         -1.3185e+00,  7.8586e-01, -1.1501e+00,  1.3132e+00],\n",
      "        [-1.0277e+00,  5.3469e-01, -7.9583e-01,  4.7801e-01,  1.5877e-01,\n",
      "         -2.3106e+00,  3.2266e-01,  1.5431e+00, -1.0392e+00, -9.6783e-01,\n",
      "         -6.9605e-01,  4.6839e-01,  3.5861e-01, -8.7726e-01,  3.2667e-01,\n",
      "         -5.6669e-01,  4.3759e-02, -4.4546e-01, -2.6725e-02,  1.7926e+00,\n",
      "         -2.0707e+00, -1.8788e+00, -8.2754e-01,  3.1572e-01,  1.2089e+00,\n",
      "          2.7238e-01,  2.8822e-02,  9.4213e-01, -1.5618e+00,  1.0711e+00,\n",
      "          4.9008e-01, -4.8759e-01,  1.2397e+00, -2.1052e+00,  9.2977e-01,\n",
      "         -1.5635e+00,  3.4689e-01, -9.2321e-01,  2.3999e+00, -6.8508e-01,\n",
      "          2.5947e+00,  9.3561e-01, -4.3714e-01, -1.0092e-01,  4.6841e-03,\n",
      "         -7.5602e-02, -2.2571e+00,  5.8273e-03, -2.8562e-02,  4.7413e-01,\n",
      "          3.5467e-01,  3.1459e-01,  8.0750e-02,  2.6207e+00, -1.2825e+00,\n",
      "         -4.5248e-01, -2.7716e-01, -1.2963e+00, -1.3049e-01, -2.4631e-02,\n",
      "         -9.5709e-01,  6.3591e-01,  2.5234e-01,  5.0451e-01]],\n",
      "       grad_fn=<EmbeddingBackward0>)\n"
     ]
    }
   ],
   "source": [
    "x = torch.tensor([1,3,15,4,7,1,4,9])\n",
    "x = token_embedding_table(x)\n",
    "print(\"Token embedding alone\")\n",
    "print(x)"
   ]
  },
  {
   "cell_type": "code",
   "execution_count": 12,
   "metadata": {
    "scrolled": true
   },
   "outputs": [
    {
     "name": "stdout",
     "output_type": "stream",
     "text": [
      "\n",
      "Token embedding with position\n",
      "tensor([[-1.0484,  2.2665,  0.3666,  1.0574, -0.9951,  2.2462, -0.6011, -0.9756,\n",
      "          1.5423, -1.4911,  0.6471,  0.2819, -2.3785, -0.0471, -0.4105,  1.2946,\n",
      "          2.3024, -0.4476,  0.9871,  1.3254, -1.0561, -0.7877, -0.4755, -1.0040,\n",
      "          0.0557, -1.0481,  0.2423, -0.6688,  1.7516,  0.3538, -1.4136,  0.3590,\n",
      "         -1.7820, -1.3862, -0.0066,  0.5300,  0.9194, -0.5648,  0.5546, -0.3695,\n",
      "         -1.4549, -0.5651,  1.0933,  2.2977,  0.4996,  2.1042,  0.0657, -3.3093,\n",
      "         -1.8844, -0.1384,  1.2181, -2.0103,  0.2392,  0.2019, -1.4201,  1.1310,\n",
      "          1.4464, -0.7095,  0.3363, -2.0127, -1.5222,  0.2868, -1.6676,  0.1696],\n",
      "        [-0.3105, -0.7262,  0.9597, -0.2898,  1.8560, -1.5758,  0.7106,  2.3958,\n",
      "          0.5443, -0.2576,  2.0226,  1.6060,  0.6541, -0.3406,  0.5152, -0.1032,\n",
      "         -0.8500, -0.8411,  0.3791, -0.0454,  1.1482,  1.8933,  2.5476,  0.0518,\n",
      "         -0.7114,  1.0657,  0.1492,  1.7766,  1.0025, -0.5372, -1.7718, -0.0071,\n",
      "         -0.5950,  0.2826,  0.0477, -0.5105,  0.0233,  0.5077,  0.0152,  1.1809,\n",
      "          1.3725, -2.0785, -1.3283, -3.2304,  0.0977, -1.7857,  1.3895, -0.8790,\n",
      "          2.5989,  0.6595,  0.4213, -0.2720,  0.5708, -0.4768,  0.8475, -1.1454,\n",
      "          0.5165,  1.4233, -1.1817, -3.0247,  1.0705, -2.2932,  0.2204,  2.1832],\n",
      "        [-0.1541,  0.6311, -0.2556,  1.1831,  0.9651,  0.9461, -2.5756,  0.0823,\n",
      "          0.4537,  0.9702, -1.6213,  1.8179, -0.3137,  0.6884, -0.1389,  0.0842,\n",
      "          1.0164, -0.5914, -1.7157,  0.9674,  0.7543,  0.6928,  2.0667, -1.8954,\n",
      "         -0.1202, -2.7496, -1.4343, -0.1353, -2.0727,  0.7644,  1.0125,  1.7729,\n",
      "          1.6960, -0.1205,  2.1589, -0.5397,  0.4424,  1.6856,  0.1800, -1.8405,\n",
      "         -1.2454, -1.7865, -0.3934,  0.3674, -1.6127, -1.2727, -0.2616, -2.3868,\n",
      "          0.7060,  0.0970, -0.3752,  1.5261, -1.2208, -0.6254, -0.5717,  3.0251,\n",
      "         -2.4623,  0.6578,  0.0384,  0.2012, -0.0983,  0.5640, -0.2739,  1.2245],\n",
      "        [-0.5413, -0.9139, -1.1624,  0.8507,  0.5364, -1.4836,  2.0607, -1.7809,\n",
      "         -2.6563,  0.7132, -2.7853,  1.2110, -1.3658,  0.3847, -1.4382, -1.8120,\n",
      "          0.0104, -0.4648, -1.5153, -1.0453,  0.6573,  0.7705, -0.5008,  0.7465,\n",
      "          0.9917, -0.9580, -2.1653, -1.5966, -2.0018,  1.3854, -0.8095, -2.1800,\n",
      "          0.7816,  0.7235, -1.6167, -0.9405, -0.1013, -0.0698, -0.4959, -2.1664,\n",
      "          0.3018, -0.7623,  1.9088,  0.3493,  0.7638, -2.4620,  0.6970, -0.0341,\n",
      "          1.3318, -1.9127, -0.5861, -0.0795,  0.6850, -1.3318,  0.2827, -0.2539,\n",
      "         -2.4332, -1.0348, -2.0152,  1.4589,  0.0969,  1.4633, -1.3619,  1.0230],\n",
      "        [ 1.7304, -1.3029,  0.6157, -2.5886, -1.4681, -0.5353, -1.1496,  0.9695,\n",
      "         -1.7416, -1.5993, -1.4600, -0.4940, -1.3724,  0.0863,  0.9402, -0.4488,\n",
      "         -1.0290, -1.6870, -4.2901, -0.9400, -0.3098, -0.8317,  2.3218, -0.9499,\n",
      "         -0.3128, -0.5705,  0.5378, -3.0531,  2.0741, -1.8486,  1.0832, -0.3116,\n",
      "          0.9480,  0.9150, -2.7841,  0.5726,  0.4448,  0.1668, -0.5209, -0.2681,\n",
      "          0.7926, -1.6351,  0.7672, -0.8185, -2.2321, -0.9457, -0.5863,  1.1314,\n",
      "         -1.1822, -1.4403,  0.6659, -1.9045,  2.9592,  0.4100, -1.1236,  1.3819,\n",
      "         -0.4328,  1.6151,  0.2338,  0.2381,  2.2150,  1.0713,  0.7667, -0.0124],\n",
      "        [-1.0484,  2.2665,  0.3666,  1.0574, -0.9951,  2.2462, -0.6011, -0.9756,\n",
      "          1.5423, -1.4911,  0.6471,  0.2819, -2.3785, -0.0471, -0.4105,  1.2946,\n",
      "          2.3024, -0.4476,  0.9871,  1.3254, -1.0561, -0.7877, -0.4755, -1.0040,\n",
      "          0.0557, -1.0481,  0.2423, -0.6688,  1.7516,  0.3538, -1.4136,  0.3590,\n",
      "         -1.7820, -1.3862, -0.0066,  0.5300,  0.9194, -0.5648,  0.5546, -0.3695,\n",
      "         -1.4549, -0.5651,  1.0933,  2.2977,  0.4996,  2.1042,  0.0657, -3.3093,\n",
      "         -1.8844, -0.1384,  1.2181, -2.0103,  0.2392,  0.2019, -1.4201,  1.1310,\n",
      "          1.4464, -0.7095,  0.3363, -2.0127, -1.5222,  0.2868, -1.6676,  0.1696],\n",
      "        [-0.5413, -0.9139, -1.1624,  0.8507,  0.5364, -1.4836,  2.0607, -1.7809,\n",
      "         -2.6563,  0.7132, -2.7853,  1.2110, -1.3658,  0.3847, -1.4382, -1.8120,\n",
      "          0.0104, -0.4648, -1.5153, -1.0453,  0.6573,  0.7705, -0.5008,  0.7465,\n",
      "          0.9917, -0.9580, -2.1653, -1.5966, -2.0018,  1.3854, -0.8095, -2.1800,\n",
      "          0.7816,  0.7235, -1.6167, -0.9405, -0.1013, -0.0698, -0.4959, -2.1664,\n",
      "          0.3018, -0.7623,  1.9088,  0.3493,  0.7638, -2.4620,  0.6970, -0.0341,\n",
      "          1.3318, -1.9127, -0.5861, -0.0795,  0.6850, -1.3318,  0.2827, -0.2539,\n",
      "         -2.4332, -1.0348, -2.0152,  1.4589,  0.0969,  1.4633, -1.3619,  1.0230],\n",
      "        [-2.4080, -0.3344, -1.6959,  0.6893,  1.2925, -3.4828,  0.0755,  1.1007,\n",
      "         -1.7025, -2.5517, -0.7658,  0.6251,  0.4432, -2.2917,  0.0906, -2.0290,\n",
      "          2.2387,  0.1889,  0.7692,  1.5506, -4.4385, -0.5822, -1.3044, -0.1198,\n",
      "          1.2606,  0.8759,  0.3326,  0.3691, -2.2175,  1.0377,  0.3032,  1.0736,\n",
      "          1.4180, -1.7577, -0.0074, -1.3607,  1.4894, -2.8661,  1.6031, -0.6015,\n",
      "          3.1892, -1.3294, -1.3107, -0.1345, -0.5919, -0.3458, -1.9208,  1.4033,\n",
      "         -1.4116,  1.5282,  0.3334,  1.6588,  1.4230,  3.4715, -0.3112, -1.1984,\n",
      "         -0.6802, -0.0261, -0.5271, -0.8408,  1.7869,  1.2972, -1.2518,  0.1979]],\n",
      "       grad_fn=<AddBackward0>)\n"
     ]
    }
   ],
   "source": [
    "x = torch.tensor([1,3,15,4,7,1,4,9])\n",
    "x= position_embedding_table(x) + token_embedding_table(x)\n",
    "print(\"\\nToken embedding with position\")\n",
    "print(x)"
   ]
  },
  {
   "cell_type": "markdown",
   "metadata": {},
   "source": [
    "#### TODO: Add visualization of token vs positional encoding"
   ]
  },
  {
   "cell_type": "markdown",
   "metadata": {},
   "source": [
    "## Let's put the pieces together to train a mini-LLM from scratch"
   ]
  },
  {
   "cell_type": "markdown",
   "metadata": {},
   "source": [
    "### Set up hyperparameters:"
   ]
  },
  {
   "cell_type": "code",
   "execution_count": 26,
   "metadata": {},
   "outputs": [],
   "source": [
    "# hyperparameters\n",
    "batch_size = 16 # how many independent sequences will we process in parallel?\n",
    "block_size = 32 # what is the maximum context length for predictions?\n",
    "max_iters = 5000\n",
    "eval_interval = 10\n",
    "learning_rate = 1e-3\n",
    "device = 'cuda' if torch.cuda.is_available() else 'cpu'\n",
    "eval_iters = 200\n",
    "n_embd = 64\n",
    "n_head = 4 ## so head_size = 16\n",
    "n_layer = 4\n",
    "dropout = 0.0\n",
    "# ------------"
   ]
  },
  {
   "cell_type": "markdown",
   "metadata": {},
   "source": [
    "### Load in data and create train and test datasets"
   ]
  },
  {
   "cell_type": "markdown",
   "metadata": {},
   "source": [
    "We're going to be using the tiny Shakespeare dataset. \n",
    "Data is tokenized according to a simple character based tokenizer.\n",
    "Data is split into a train and test set so we have something to test after performing training (9:1 split)."
   ]
  },
  {
   "cell_type": "code",
   "execution_count": 17,
   "metadata": {},
   "outputs": [
    {
     "name": "stdout",
     "output_type": "stream",
     "text": [
      "65\n"
     ]
    }
   ],
   "source": [
    "with open('dataset/input.txt', 'r', encoding='utf-8') as f:\n",
    "    text = f.read()\n",
    "\n",
    "# here are all the unique characters that occur in this text\n",
    "chars = sorted(list(set(text)))\n",
    "vocab_size = len(chars)\n",
    "print (vocab_size)\n",
    "# create a mapping from characters to integers\n",
    "stoi = { ch:i for i,ch in enumerate(chars) }\n",
    "itos = { i:ch for i,ch in enumerate(chars) }\n",
    "encode = lambda s: [stoi[c] for c in s] # encoder: take a string, output a list of integers\n",
    "decode = lambda l: ''.join([itos[i] for i in l]) # decoder: take a list of integers, output a string\n",
    "\n",
    "# Train and test splits\n",
    "data = torch.tensor(encode(text), dtype=torch.long)\n",
    "n = int(0.9*len(data)) # first 90% will be train, rest val\n",
    "train_data = data[:n]\n",
    "val_data = data[n:]\n",
    "\n",
    "# data loading\n",
    "def get_batch(split):\n",
    "    # generate a small batch of data of inputs x and targets y\n",
    "    data = train_data if split == 'train' else val_data\n",
    "    ix = torch.randint(len(data) - block_size, (batch_size,))\n",
    "    x = torch.stack([data[i:i+block_size] for i in ix])\n",
    "    y = torch.stack([data[i+1:i+block_size+1] for i in ix])\n",
    "    x, y = x.to(device), y.to(device)\n",
    "    return x, y"
   ]
  },
  {
   "cell_type": "markdown",
   "metadata": {},
   "source": [
    "### Set up the components of the LLM: \n",
    "* MultiHeadAttention\n",
    "* FeedForward Network"
   ]
  },
  {
   "cell_type": "code",
   "execution_count": 18,
   "metadata": {},
   "outputs": [],
   "source": [
    "class Head(nn.Module):\n",
    "    \"\"\" one head of self-attention \"\"\"\n",
    "\n",
    "    def __init__(self, head_size):\n",
    "        super().__init__()\n",
    "        self.key = nn.Linear(n_embd, head_size, bias=False)\n",
    "        self.query = nn.Linear(n_embd, head_size, bias=False)\n",
    "        self.value = nn.Linear(n_embd, head_size, bias=False)\n",
    "        self.register_buffer('tril', torch.tril(torch.ones(block_size, block_size)))\n",
    "\n",
    "        self.dropout = nn.Dropout(dropout)\n",
    "\n",
    "    def forward(self, x):\n",
    "        B,T,C = x.shape\n",
    "        k = self.key(x)   # (B,T,C) 16,32,16\n",
    "        q = self.query(x) # (B,T,C)\n",
    "        # compute attention scores (\"affinities\")\n",
    "        wei = q @ k.transpose(-2,-1) * C**-0.5 # (B, T, C) @ (B, C, T) -> (B, T, T)\n",
    "        wei = wei.masked_fill(self.tril[:T, :T] == 0, float('-inf')) # (B, T, T)\n",
    "        wei = F.softmax(wei, dim=-1) # (B, T, T)\n",
    "        wei = self.dropout(wei)\n",
    "        # perform the weighted aggregation of the values\n",
    "        v = self.value(x) # (B,T,C)\n",
    "        out = wei @ v # (B, T, T) @ (B, T, C) -> (B, T, C)\n",
    "        return out\n",
    "\n",
    "class MultiHeadAttention(nn.Module):\n",
    "    \"\"\" multiple heads of self-attention in parallel \"\"\"\n",
    "\n",
    "    def __init__(self, num_heads, head_size):\n",
    "        super().__init__()\n",
    "        self.heads = nn.ModuleList([Head(head_size) for _ in range(num_heads)])\n",
    "        self.proj = nn.Linear(n_embd, n_embd)\n",
    "        self.dropout = nn.Dropout(dropout)\n",
    "\n",
    "    def forward(self, x):\n",
    "        out = torch.cat([h(x) for h in self.heads], dim=-1)\n",
    "        out = self.dropout(self.proj(out))\n",
    "        return out\n",
    "\n",
    "class FeedFoward(nn.Module):\n",
    "    \"\"\" a simple linear layer followed by a non-linearity \"\"\"\n",
    "\n",
    "    def __init__(self, n_embd):\n",
    "        super().__init__()\n",
    "        self.net = nn.Sequential(\n",
    "            nn.Linear(n_embd, 4 * n_embd),\n",
    "            nn.ReLU(),\n",
    "            nn.Linear(4 * n_embd, n_embd), # Projection layer going back into the residual pathway\n",
    "            nn.Dropout(dropout),\n",
    "        )\n",
    "\n",
    "    def forward(self, x):\n",
    "        return self.net(x)\n"
   ]
  },
  {
   "cell_type": "markdown",
   "metadata": {},
   "source": [
    "### Combine components into the Transformer block"
   ]
  },
  {
   "cell_type": "code",
   "execution_count": 19,
   "metadata": {},
   "outputs": [],
   "source": [
    "class Block(nn.Module):\n",
    "    \"\"\" Transformer block: communication followed by computation \"\"\"\n",
    "\n",
    "    def __init__(self, n_embd, n_head):\n",
    "        # n_embd: embedding dimension, n_head: the number of heads we'd like\n",
    "        super().__init__()\n",
    "        head_size = n_embd // n_head\n",
    "        self.sa = MultiHeadAttention(n_head, head_size)\n",
    "        self.ffwd = FeedFoward(n_embd)\n",
    "        self.ln1 = nn.LayerNorm(n_embd)\n",
    "        self.ln2 = nn.LayerNorm(n_embd)\n",
    "\n",
    "    def forward(self, x):\n",
    "        x = x + self.sa(self.ln1(x))    # Communication\n",
    "        x = x + self.ffwd(self.ln2(x))  # Computation\n",
    "        return x"
   ]
  },
  {
   "cell_type": "markdown",
   "metadata": {},
   "source": [
    "### Set up the Transformer model \n",
    "This is a combination of the Token embeddings, Positional embeddings, Transformer block and an output block."
   ]
  },
  {
   "cell_type": "markdown",
   "metadata": {},
   "source": [
    "Let's briefly discuss the output block."
   ]
  },
  {
   "cell_type": "markdown",
   "metadata": {
    "id": "iF1HzH9xNJ7S"
   },
   "source": [
    "#### How do we turn the output of the decoder stack into a word?\n",
    "\n",
    "Using the final Linear layer and a Softmax Layer.\n",
    "\n",
    "The Linear layer projects the vector produced by the stack of decoders, into a larger vector called a logits vector.\n",
    "\n",
    "If our model knows 10,000 unique English words learned from its training dataset the logits vector is 10,000 cells wide – each cell corresponds to the score of a unique word.\n",
    "\n",
    "The softmax layer turns those scores into probabilities. The cell with the highest probability is chosen, and the word associated with it is produced as the output for this time step."
   ]
  },
  {
   "cell_type": "markdown",
   "metadata": {},
   "source": [
    "<img src=\"images/transformer_decoder_output_softmax.png\" alt=\"Drawing\" style=\"width: 500px;\"/>"
   ]
  },
  {
   "cell_type": "markdown",
   "metadata": {
    "id": "HS6r-z8dN_RV"
   },
   "source": [
    "Image credit: https://jalammar.github.io/illustrated-transformer/"
   ]
  },
  {
   "cell_type": "code",
   "execution_count": 20,
   "metadata": {},
   "outputs": [],
   "source": [
    "# super simple bigram model\n",
    "class BigramLanguageModel(nn.Module):\n",
    "\n",
    "    def __init__(self):\n",
    "        super().__init__()\n",
    "        # each token directly reads off the logits for the next token from a lookup table\n",
    "        self.token_embedding_table = nn.Embedding(vocab_size, n_embd)\n",
    "        self.position_embedding_table = nn.Embedding(block_size, n_embd)\n",
    "        self.blocks = nn.Sequential(*[Block(n_embd, n_head=n_head) for _ in range(n_layer)])\n",
    "        self.ln_f = nn.LayerNorm(n_embd) # final layer norm\n",
    "        self.lm_head = nn.Linear(n_embd, vocab_size)\n",
    "\n",
    "    def forward(self, idx, targets=None):\n",
    "        B, T = idx.shape\n",
    "\n",
    "        # idx and targets are both (B,T) tensor of integers\n",
    "        tok_emb = self.token_embedding_table(idx) # (B,T,C)\n",
    "        pos_emb = self.position_embedding_table(torch.arange(T, device=device)) # (T,C)\n",
    "        x = tok_emb + pos_emb # (B,T,C)\n",
    "        x = self.blocks(x) # (B,T,C)\n",
    "        x = self.ln_f(x) # (B,T,C)\n",
    "        logits = self.lm_head(x) # (B,T,vocab_size)\n",
    "\n",
    "        if targets is None:\n",
    "            loss = None\n",
    "        else:\n",
    "            B, T, C = logits.shape\n",
    "            logits = logits.view(B*T, C)\n",
    "            targets = targets.view(B*T)\n",
    "            loss = F.cross_entropy(logits, targets)\n",
    "\n",
    "        return logits, loss\n",
    "\n",
    "    def generate(self, idx, max_new_tokens):\n",
    "        # idx is (B, T) array of indices in the current context\n",
    "        for _ in range(max_new_tokens):\n",
    "            # crop idx to the last block_size tokens\n",
    "            idx_cond = idx[:, -block_size:]\n",
    "            # get the predictions\n",
    "            logits, loss = self(idx_cond)\n",
    "            # focus only on the last time step\n",
    "            logits = logits[:, -1, :] # becomes (B, C)\n",
    "            # apply softmax to get probabilities\n",
    "            probs = F.softmax(logits, dim=-1) # (B, C)\n",
    "            # sample from the distribution\n",
    "            idx_next = torch.multinomial(probs, num_samples=1) # (B, 1)\n",
    "            # append sampled index to the running sequence\n",
    "            idx = torch.cat((idx, idx_next), dim=1) # (B, T+1)\n",
    "        return idx\n",
    "\n"
   ]
  },
  {
   "cell_type": "markdown",
   "metadata": {},
   "source": [
    "### Training loop"
   ]
  },
  {
   "cell_type": "markdown",
   "metadata": {
    "id": "XK8q67P03yr4"
   },
   "source": [
    "Our model produces a probability distribution for each token. We want to compare these probability distributions to the ground truths. \n",
    "To compare these distributions we can simply look at the difference between them a loss like cross-entropy or Kullback–Leibler divergence. Then the training uses back-propagation to optimize this loss function.\n",
    "\n",
    "A more complex situation is translating the sentence: “je suis étudiant” into “i am a student” as can be seen in the example:"
   ]
  },
  {
   "cell_type": "markdown",
   "metadata": {},
   "source": [
    "<img src=\"images/output_target_probability_distributions.png\" alt=\"Drawing\" style=\"width: 500px;\"/>"
   ]
  },
  {
   "cell_type": "markdown",
   "metadata": {},
   "source": [
    "In this example, we are using cross entropy loss."
   ]
  },
  {
   "cell_type": "code",
   "execution_count": 27,
   "metadata": {},
   "outputs": [],
   "source": [
    "import torch"
   ]
  },
  {
   "cell_type": "code",
   "execution_count": null,
   "metadata": {},
   "outputs": [
    {
     "data": {
      "image/png": "[encoded data removed]",
      "text/plain": [
       "<Figure size 640x480 with 1 Axes>"
      ]
     },
     "metadata": {},
     "output_type": "display_data"
    },
    {
     "data": {
      "image/png": "[encoded data removed]",
      "text/plain": [
       "<Figure size 640x480 with 1 Axes>"
      ]
     },
     "metadata": {},
     "output_type": "display_data"
    },
    {
     "name": "stdout",
     "output_type": "stream",
     "text": [
      "step 2280: train loss 1.8457, val loss 1.9640\n"
     ]
    }
   ],
   "source": [
    "import numpy as np\n",
    "import matplotlib.pyplot as plt\n",
    "from IPython.display import display, clear_output\n",
    "import time\n",
    "@torch.no_grad()\n",
    "def estimate_loss():\n",
    "    out = {}\n",
    "    model.eval()\n",
    "    for split in ['train', 'val']:\n",
    "        losses = torch.zeros(eval_iters)\n",
    "        for k in range(eval_iters):\n",
    "            X, Y = get_batch(split)\n",
    "            logits, loss = model(X, Y)\n",
    "            losses[k] = loss.item()\n",
    "        out[split] = losses.mean()\n",
    "    model.train()\n",
    "    return out\n",
    "    \n",
    "model = BigramLanguageModel()\n",
    "m = model.to(device)\n",
    "# print the number of parameters in the model\n",
    "print(sum(p.numel() for p in m.parameters())/1e6, 'M parameters')\n",
    "\n",
    "# create a PyTorch optimizer\n",
    "optimizer = torch.optim.AdamW(model.parameters(), lr=learning_rate)\n",
    "\n",
    "loss_train = []\n",
    "perplex_train = []\n",
    "\n",
    "loss_val = []\n",
    "perplex_val = []\n",
    "iterations_plot = []\n",
    "for iter in range(max_iters):\n",
    "\n",
    "    # every once in a while evaluate the loss on train and val sets\n",
    "    if iter % eval_interval == 0 or iter == max_iters - 1:\n",
    "        time.sleep(0.25)\n",
    "        clear_output(wait=True)\n",
    "        sys.stdout.flush()\n",
    "        losses = estimate_loss()\n",
    "        loss_train.append(losses['train'])\n",
    "        iterations_plot.append(iter)\n",
    "        perplex_train.append(np.exp(losses['train']))\n",
    "        loss_val.append(losses['val'])\n",
    "        perplex_val.append(np.exp(losses['val']))\n",
    "        \n",
    "        plt.plot(iterations_plot, loss_train, label='Training')\n",
    "        plt.plot(iterations_plot, loss_val, label='Validation')\n",
    "        plt.xlabel('Epoch')\n",
    "        plt.ylabel('Cross-entropy loss')\n",
    "        plt.legend()\n",
    "        plt.show()\n",
    "        \n",
    "        plt.plot(iterations_plot, perplex_train, label='Training')\n",
    "        plt.plot(iterations_plot, perplex_val, label='Validation')\n",
    "        plt.xlabel('Epoch')\n",
    "        plt.ylabel('Perplexity')\n",
    "        plt.show()\n",
    "        \n",
    "        print(f\"step {iter}: train loss {losses['train']:.4f}, val loss {losses['val']:.4f}\")\n",
    "\n",
    "    # sample a batch of data\n",
    "    xb, yb = get_batch('train')\n",
    "\n",
    "    # evaluate the loss\n",
    "    logits, loss = model(xb, yb)\n",
    "    optimizer.zero_grad(set_to_none=True)\n",
    "    loss.backward()\n",
    "    optimizer.step()\n",
    "\n",
    "# generate from the model\n",
    "context = torch.zeros((1, 1), dtype=torch.long, device=device)\n",
    "print(decode(m.generate(context, max_new_tokens=2000)[0].tolist()))"
   ]
  },
  {
   "cell_type": "code",
   "execution_count": null,
   "metadata": {
    "id": "nDXLTusqxXHf"
   },
   "outputs": [],
   "source": []
  }
 ],
 "metadata": {
  "colab": {
   "provenance": []
  },
  "kernelspec": {
   "display_name": "Python 3 (ipykernel)",
   "language": "python",
   "name": "python3"
  },
  "language_info": {
   "codemirror_mode": {
    "name": "ipython",
    "version": 3
   },
   "file_extension": ".py",
   "mimetype": "text/x-python",
   "name": "python",
   "nbconvert_exporter": "python",
   "pygments_lexer": "ipython3",
   "version": "3.11.3"
  }
 },
 "nbformat": 4,
 "nbformat_minor": 4
}
